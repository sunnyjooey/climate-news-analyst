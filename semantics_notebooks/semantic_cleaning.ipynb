{
 "cells": [
  {
   "cell_type": "markdown",
   "metadata": {},
   "source": [
    "## Deprecated - ignore\n",
    "Initially, we were using the full compound subjects, verbs and direct objects. \n",
    "This notebook documents an attempt to combat variability by lumping some manually-tagged concepts together.\n",
    "We left this approach and decided to use the action lemmatized verb, and the rightmost noun"
   ]
  },
  {
   "cell_type": "code",
   "execution_count": 1,
   "metadata": {},
   "outputs": [],
   "source": [
    "import pandas as pd\n",
    "import string"
   ]
  },
  {
   "cell_type": "code",
   "execution_count": 3,
   "metadata": {},
   "outputs": [],
   "source": [
    "svo_df = pd.read_pickle('svo_df.pkl')"
   ]
  },
  {
   "cell_type": "code",
   "execution_count": 3,
   "metadata": {
    "collapsed": true
   },
   "outputs": [],
   "source": [
    "pd.options.display.max_rows = 999"
   ]
  },
  {
   "cell_type": "code",
   "execution_count": 4,
   "metadata": {},
   "outputs": [
    {
     "data": {
      "text/html": [
       "<div>\n",
       "<style scoped>\n",
       "    .dataframe tbody tr th:only-of-type {\n",
       "        vertical-align: middle;\n",
       "    }\n",
       "\n",
       "    .dataframe tbody tr th {\n",
       "        vertical-align: top;\n",
       "    }\n",
       "\n",
       "    .dataframe thead th {\n",
       "        text-align: right;\n",
       "    }\n",
       "</style>\n",
       "<table border=\"1\" class=\"dataframe\">\n",
       "  <thead>\n",
       "    <tr style=\"text-align: right;\">\n",
       "      <th></th>\n",
       "      <th>country</th>\n",
       "      <th>filename</th>\n",
       "      <th>object</th>\n",
       "      <th>subject</th>\n",
       "      <th>verb</th>\n",
       "    </tr>\n",
       "  </thead>\n",
       "  <tbody>\n",
       "    <tr>\n",
       "      <th>0</th>\n",
       "      <td>KE</td>\n",
       "      <td>./data/KE/KE5_39.html</td>\n",
       "      <td>ballots</td>\n",
       "      <td>Angolans</td>\n",
       "      <td>cast</td>\n",
       "    </tr>\n",
       "    <tr>\n",
       "      <th>1</th>\n",
       "      <td>KE</td>\n",
       "      <td>./data/KE/KE5_39.html</td>\n",
       "      <td>None</td>\n",
       "      <td>MPLA</td>\n",
       "      <td>expected</td>\n",
       "    </tr>\n",
       "    <tr>\n",
       "      <th>2</th>\n",
       "      <td>KE</td>\n",
       "      <td>./data/KE/KE5_39.html</td>\n",
       "      <td>transition</td>\n",
       "      <td>Dos Santos retirement —</td>\n",
       "      <td>triggered</td>\n",
       "    </tr>\n",
       "    <tr>\n",
       "      <th>3</th>\n",
       "      <td>KE</td>\n",
       "      <td>./data/KE/KE5_39.html</td>\n",
       "      <td>Defence Minister Joao Lourenco</td>\n",
       "      <td>successor</td>\n",
       "      <td>is</td>\n",
       "    </tr>\n",
       "    <tr>\n",
       "      <th>4</th>\n",
       "      <td>KE</td>\n",
       "      <td>./data/KE/KE5_39.html</td>\n",
       "      <td>reporters</td>\n",
       "      <td>Lourenco</td>\n",
       "      <td>told</td>\n",
       "    </tr>\n",
       "  </tbody>\n",
       "</table>\n",
       "</div>"
      ],
      "text/plain": [
       "  country               filename                           object  \\\n",
       "0      KE  ./data/KE/KE5_39.html                         ballots    \n",
       "1      KE  ./data/KE/KE5_39.html                             None   \n",
       "2      KE  ./data/KE/KE5_39.html                      transition    \n",
       "3      KE  ./data/KE/KE5_39.html  Defence Minister Joao Lourenco    \n",
       "4      KE  ./data/KE/KE5_39.html                       reporters    \n",
       "\n",
       "                    subject       verb  \n",
       "0                 Angolans       cast   \n",
       "1                     MPLA    expected  \n",
       "2  Dos Santos retirement —   triggered  \n",
       "3                successor         is   \n",
       "4                 Lourenco       told   "
      ]
     },
     "execution_count": 4,
     "metadata": {},
     "output_type": "execute_result"
    }
   ],
   "source": [
    "svo_df.head()"
   ]
  },
  {
   "cell_type": "code",
   "execution_count": 5,
   "metadata": {},
   "outputs": [],
   "source": [
    "exclude = set(string.punctuation + '¦—–…•’‘”“')\n",
    "\n",
    "svo_df.fillna('', inplace=True)\n",
    "\n",
    "svo_df['subject'] = svo_df['subject'].apply(lambda x: ''.join(ch for ch in x if ch not in exclude))\n",
    "svo_df['object'] = svo_df['object'].apply(lambda x: ''.join(ch for ch in x if ch not in exclude))\n",
    "svo_df['verb'] = svo_df['verb'].apply(lambda x: ''.join(ch for ch in x if ch not in exclude))"
   ]
  },
  {
   "cell_type": "code",
   "execution_count": 6,
   "metadata": {},
   "outputs": [
    {
     "data": {
      "text/html": [
       "<div>\n",
       "<style scoped>\n",
       "    .dataframe tbody tr th:only-of-type {\n",
       "        vertical-align: middle;\n",
       "    }\n",
       "\n",
       "    .dataframe tbody tr th {\n",
       "        vertical-align: top;\n",
       "    }\n",
       "\n",
       "    .dataframe thead th {\n",
       "        text-align: right;\n",
       "    }\n",
       "</style>\n",
       "<table border=\"1\" class=\"dataframe\">\n",
       "  <thead>\n",
       "    <tr style=\"text-align: right;\">\n",
       "      <th></th>\n",
       "      <th></th>\n",
       "      <th>verb</th>\n",
       "    </tr>\n",
       "    <tr>\n",
       "      <th>subject</th>\n",
       "      <th>verb</th>\n",
       "      <th></th>\n",
       "    </tr>\n",
       "  </thead>\n",
       "  <tbody>\n",
       "    <tr>\n",
       "      <th rowspan=\"30\" valign=\"top\"></th>\n",
       "      <th>s</th>\n",
       "      <td>138</td>\n",
       "    </tr>\n",
       "    <tr>\n",
       "      <th>said</th>\n",
       "      <td>110</td>\n",
       "    </tr>\n",
       "    <tr>\n",
       "      <th></th>\n",
       "      <td>25</td>\n",
       "    </tr>\n",
       "    <tr>\n",
       "      <th>is</th>\n",
       "      <td>24</td>\n",
       "    </tr>\n",
       "    <tr>\n",
       "      <th>says</th>\n",
       "      <td>13</td>\n",
       "    </tr>\n",
       "    <tr>\n",
       "      <th></th>\n",
       "      <td>7</td>\n",
       "    </tr>\n",
       "    <tr>\n",
       "      <th>added</th>\n",
       "      <td>4</td>\n",
       "    </tr>\n",
       "    <tr>\n",
       "      <th>be</th>\n",
       "      <td>4</td>\n",
       "    </tr>\n",
       "    <tr>\n",
       "      <th>led</th>\n",
       "      <td>4</td>\n",
       "    </tr>\n",
       "    <tr>\n",
       "      <th>t</th>\n",
       "      <td>3</td>\n",
       "    </tr>\n",
       "    <tr>\n",
       "      <th>was</th>\n",
       "      <td>3</td>\n",
       "    </tr>\n",
       "    <tr>\n",
       "      <th>adds</th>\n",
       "      <td>2</td>\n",
       "    </tr>\n",
       "    <tr>\n",
       "      <th>continues</th>\n",
       "      <td>2</td>\n",
       "    </tr>\n",
       "    <tr>\n",
       "      <th>need</th>\n",
       "      <td>2</td>\n",
       "    </tr>\n",
       "    <tr>\n",
       "      <th>s going</th>\n",
       "      <td>2</td>\n",
       "    </tr>\n",
       "    <tr>\n",
       "      <th>s made</th>\n",
       "      <td>2</td>\n",
       "    </tr>\n",
       "    <tr>\n",
       "      <th>become</th>\n",
       "      <td>1</td>\n",
       "    </tr>\n",
       "    <tr>\n",
       "      <th>Added</th>\n",
       "      <td>1</td>\n",
       "    </tr>\n",
       "    <tr>\n",
       "      <th>Come hear</th>\n",
       "      <td>1</td>\n",
       "    </tr>\n",
       "    <tr>\n",
       "      <th>Do</th>\n",
       "      <td>1</td>\n",
       "    </tr>\n",
       "    <tr>\n",
       "      <th>Give</th>\n",
       "      <td>1</td>\n",
       "    </tr>\n",
       "    <tr>\n",
       "      <th>Let</th>\n",
       "      <td>1</td>\n",
       "    </tr>\n",
       "    <tr>\n",
       "      <th>Look</th>\n",
       "      <td>1</td>\n",
       "    </tr>\n",
       "    <tr>\n",
       "      <th>Of</th>\n",
       "      <td>1</td>\n",
       "    </tr>\n",
       "    <tr>\n",
       "      <th>Stand</th>\n",
       "      <td>1</td>\n",
       "    </tr>\n",
       "    <tr>\n",
       "      <th>Try stick</th>\n",
       "      <td>1</td>\n",
       "    </tr>\n",
       "    <tr>\n",
       "      <th>are</th>\n",
       "      <td>1</td>\n",
       "    </tr>\n",
       "    <tr>\n",
       "      <th>banished</th>\n",
       "      <td>1</td>\n",
       "    </tr>\n",
       "    <tr>\n",
       "      <th>blamed</th>\n",
       "      <td>1</td>\n",
       "    </tr>\n",
       "    <tr>\n",
       "      <th>came</th>\n",
       "      <td>1</td>\n",
       "    </tr>\n",
       "    <tr>\n",
       "      <th>...</th>\n",
       "      <th>...</th>\n",
       "      <td>...</td>\n",
       "    </tr>\n",
       "    <tr>\n",
       "      <th>you</th>\n",
       "      <th>worry</th>\n",
       "      <td>1</td>\n",
       "    </tr>\n",
       "    <tr>\n",
       "      <th>you</th>\n",
       "      <th></th>\n",
       "      <td>1</td>\n",
       "    </tr>\n",
       "    <tr>\n",
       "      <th>you  Apart</th>\n",
       "      <th>s</th>\n",
       "      <td>1</td>\n",
       "    </tr>\n",
       "    <tr>\n",
       "      <th>you I</th>\n",
       "      <th>have</th>\n",
       "      <td>1</td>\n",
       "    </tr>\n",
       "    <tr>\n",
       "      <th>you dog</th>\n",
       "      <th>getting</th>\n",
       "      <td>1</td>\n",
       "    </tr>\n",
       "    <tr>\n",
       "      <th>youngsters</th>\n",
       "      <th>make</th>\n",
       "      <td>1</td>\n",
       "    </tr>\n",
       "    <tr>\n",
       "      <th>your</th>\n",
       "      <th>U</th>\n",
       "      <td>3</td>\n",
       "    </tr>\n",
       "    <tr>\n",
       "      <th>your island</th>\n",
       "      <th></th>\n",
       "      <td>1</td>\n",
       "    </tr>\n",
       "    <tr>\n",
       "      <th rowspan=\"2\" valign=\"top\">yourself</th>\n",
       "      <th></th>\n",
       "      <td>1</td>\n",
       "    </tr>\n",
       "    <tr>\n",
       "      <th>is</th>\n",
       "      <td>1</td>\n",
       "    </tr>\n",
       "    <tr>\n",
       "      <th rowspan=\"9\" valign=\"top\">youth</th>\n",
       "      <th>means</th>\n",
       "      <td>2</td>\n",
       "    </tr>\n",
       "    <tr>\n",
       "      <th>be</th>\n",
       "      <td>1</td>\n",
       "    </tr>\n",
       "    <tr>\n",
       "      <th>exploit</th>\n",
       "      <td>1</td>\n",
       "    </tr>\n",
       "    <tr>\n",
       "      <th>form</th>\n",
       "      <td>1</td>\n",
       "    </tr>\n",
       "    <tr>\n",
       "      <th>have</th>\n",
       "      <td>1</td>\n",
       "    </tr>\n",
       "    <tr>\n",
       "      <th>need</th>\n",
       "      <td>1</td>\n",
       "    </tr>\n",
       "    <tr>\n",
       "      <th>play</th>\n",
       "      <td>1</td>\n",
       "    </tr>\n",
       "    <tr>\n",
       "      <th>sent</th>\n",
       "      <td>1</td>\n",
       "    </tr>\n",
       "    <tr>\n",
       "      <th>took</th>\n",
       "      <td>1</td>\n",
       "    </tr>\n",
       "    <tr>\n",
       "      <th>youth group</th>\n",
       "      <th>includes</th>\n",
       "      <td>1</td>\n",
       "    </tr>\n",
       "    <tr>\n",
       "      <th>youth restiveness</th>\n",
       "      <th></th>\n",
       "      <td>1</td>\n",
       "    </tr>\n",
       "    <tr>\n",
       "      <th rowspan=\"4\" valign=\"top\">youths</th>\n",
       "      <th>are</th>\n",
       "      <td>1</td>\n",
       "    </tr>\n",
       "    <tr>\n",
       "      <th>be</th>\n",
       "      <td>1</td>\n",
       "    </tr>\n",
       "    <tr>\n",
       "      <th>had</th>\n",
       "      <td>1</td>\n",
       "    </tr>\n",
       "    <tr>\n",
       "      <th>ripped</th>\n",
       "      <td>1</td>\n",
       "    </tr>\n",
       "    <tr>\n",
       "      <th>yuan</th>\n",
       "      <th></th>\n",
       "      <td>1</td>\n",
       "    </tr>\n",
       "    <tr>\n",
       "      <th>zenith</th>\n",
       "      <th>was</th>\n",
       "      <td>1</td>\n",
       "    </tr>\n",
       "    <tr>\n",
       "      <th>­citizens</th>\n",
       "      <th>were</th>\n",
       "      <td>1</td>\n",
       "    </tr>\n",
       "    <tr>\n",
       "      <th>Ó Cuinn</th>\n",
       "      <th>said</th>\n",
       "      <td>1</td>\n",
       "    </tr>\n",
       "    <tr>\n",
       "      <th>Ögmundsson</th>\n",
       "      <th>fears</th>\n",
       "      <td>1</td>\n",
       "    </tr>\n",
       "  </tbody>\n",
       "</table>\n",
       "<p>31130 rows × 1 columns</p>\n",
       "</div>"
      ],
      "text/plain": [
       "                               verb\n",
       "subject            verb            \n",
       "                   s            138\n",
       "                   said         110\n",
       "                                 25\n",
       "                   is            24\n",
       "                   says          13\n",
       "                                  7\n",
       "                   added          4\n",
       "                   be             4\n",
       "                   led            4\n",
       "                   t              3\n",
       "                   was            3\n",
       "                   adds           2\n",
       "                   continues      2\n",
       "                   need           2\n",
       "                   s going        2\n",
       "                   s made         2\n",
       "                    become        1\n",
       "                   Added          1\n",
       "                   Come hear      1\n",
       "                   Do             1\n",
       "                   Give           1\n",
       "                   Let            1\n",
       "                   Look           1\n",
       "                   Of             1\n",
       "                   Stand          1\n",
       "                   Try stick      1\n",
       "                   are            1\n",
       "                   banished       1\n",
       "                   blamed         1\n",
       "                   came           1\n",
       "...                             ...\n",
       "you                worry          1\n",
       "you                               1\n",
       "you  Apart         s              1\n",
       "you I              have           1\n",
       "you dog            getting        1\n",
       "youngsters         make           1\n",
       "your               U              3\n",
       "your island                       1\n",
       "yourself                          1\n",
       "                   is             1\n",
       "youth              means          2\n",
       "                   be             1\n",
       "                   exploit        1\n",
       "                   form           1\n",
       "                   have           1\n",
       "                   need           1\n",
       "                   play           1\n",
       "                   sent           1\n",
       "                   took           1\n",
       "youth group        includes       1\n",
       "youth restiveness                 1\n",
       "youths             are            1\n",
       "                   be             1\n",
       "                   had            1\n",
       "                   ripped         1\n",
       "yuan                              1\n",
       "zenith             was            1\n",
       "­citizens          were           1\n",
       "Ó Cuinn            said           1\n",
       "Ögmundsson         fears          1\n",
       "\n",
       "[31130 rows x 1 columns]"
      ]
     },
     "execution_count": 6,
     "metadata": {},
     "output_type": "execute_result"
    }
   ],
   "source": [
    "pd.DataFrame(svo_df.groupby(by=['subject'])['verb'].value_counts())"
   ]
  },
  {
   "cell_type": "code",
   "execution_count": 7,
   "metadata": {},
   "outputs": [],
   "source": [
    "def findSubString(df, strings):\n",
    "    variations = []\n",
    "    for i, row in df.iterrows():\n",
    "        for string in strings: \n",
    "            if string in row['object']:\n",
    "                if row['object'] not in variations:\n",
    "                    variations.append(row['object'])\n",
    "    return variations"
   ]
  },
  {
   "cell_type": "code",
   "execution_count": 8,
   "metadata": {},
   "outputs": [],
   "source": [
    "# findSubString(svo_df, ['Trump', 'trump','Donald', 'donald'])"
   ]
  },
  {
   "cell_type": "code",
   "execution_count": 9,
   "metadata": {},
   "outputs": [],
   "source": [
    "trump = ['Donald Trump ',\n",
    " 'Trump ',\n",
    " 'S President Donald Trump ',\n",
    " 'President Trump ',\n",
    " 'American President Donald Trump ',\n",
    " 'US President Donald Trump ',\n",
    " 'Mr Trump ',\n",
    " 'US President ']"
   ]
  },
  {
   "cell_type": "code",
   "execution_count": 10,
   "metadata": {},
   "outputs": [],
   "source": [
    "trump_government = ['Trump administration ',\n",
    " 'President Donald Trump withdrawal ',\n",
    " 'Donald Trump administration ',\n",
    " 'Donald Trump decision ',\n",
    " 'Mr Trump  counsel ',\n",
    " 'Trump efforts ',\n",
    " 'Trump order ',\n",
    " 'Trump policies ',\n",
    " 'US President Donald Trump allegation ',\n",
    " 'Trump adviser ',\n",
    " 'Mr Trump action ',\n",
    " 'Trump National Security Strategy ',\n",
    " 'Trump adviser Steve Bannon head ',\n",
    " 'US vicepresident ',\n",
    " 'US secretary ']"
   ]
  },
  {
   "cell_type": "code",
   "execution_count": 11,
   "metadata": {},
   "outputs": [],
   "source": [
    "# findSubString(svo_df, ['Obama', 'obama', 'Barack', 'barack'])"
   ]
  },
  {
   "cell_type": "code",
   "execution_count": 12,
   "metadata": {},
   "outputs": [],
   "source": [
    "obama = ['US president Barack Obama  ',\n",
    " 'President Obama ']"
   ]
  },
  {
   "cell_type": "code",
   "execution_count": 13,
   "metadata": {},
   "outputs": [],
   "source": [
    "# findSubString(svo_df, ['US', 'United', 'America'])"
   ]
  },
  {
   "cell_type": "code",
   "execution_count": 14,
   "metadata": {},
   "outputs": [],
   "source": [
    "US = ['US ',\n",
    " 'United States ',\n",
    " 'America ',\n",
    " 'America  ',\n",
    " ' America ']"
   ]
  },
  {
   "cell_type": "code",
   "execution_count": 15,
   "metadata": {},
   "outputs": [],
   "source": [
    "# findSubString(svo_df, ['UN', 'United Nations','Guterres'])"
   ]
  },
  {
   "cell_type": "code",
   "execution_count": 16,
   "metadata": {},
   "outputs": [],
   "source": [
    "UN = ['SecretaryGeneral Antonio Guterres ',\n",
    " 'United Nations Organisation Stabilisation Mission ',\n",
    " 'United Nations Environment Assembly ',\n",
    " 'United Nations climate targets ',\n",
    " 'United Nations Conference ',\n",
    " 'UN chief ',\n",
    " 'UN work ',\n",
    " 'Indian Space Research Organisation UN High Commission ',\n",
    " 'UNDP ',\n",
    " 'UN ',\n",
    " 'SUNREF ',\n",
    " 'United Nations Framework Convention ',\n",
    " 'UN community ',\n",
    " 'UN gathering ',\n",
    " 'UN summit agreement ',\n",
    " 'United Nations Sustainable Development Goals ',\n",
    " 'UN session ',\n",
    " 'UN visit ',\n",
    " 'UN Secretary General Antonio Guterres ',\n",
    " 'UNICEF report ']"
   ]
  },
  {
   "cell_type": "code",
   "execution_count": 17,
   "metadata": {},
   "outputs": [],
   "source": [
    "# findSubString(svo_df, ['Paris'])"
   ]
  },
  {
   "cell_type": "code",
   "execution_count": 18,
   "metadata": {},
   "outputs": [],
   "source": [
    "paris_accord = ['Paris Agreement ',\n",
    " 'Paris agreement ',\n",
    " 'Paris climate change agreement ',\n",
    " 'Paris climate agreement ',\n",
    " 'Paris obligations ',\n",
    " 'Paris climate accord G20 decisions ',\n",
    " 'Paris Climate Change Agreement ',\n",
    " 'Paris Accord shell ',\n",
    " 'Paris goals ',\n",
    " 'Paris Climate Agreement ',\n",
    " 'Paris climate accord ',\n",
    " 'Paris accord ',\n",
    " 'Paris accords ',\n",
    " 'Paris pact ',\n",
    " 'Paris accords transaction ',\n",
    " 'Paris commitmentsone research ',\n",
    " 'Paris climate accord commitments ',\n",
    " 'Paris climate agreement goals ']"
   ]
  },
  {
   "cell_type": "code",
   "execution_count": 19,
   "metadata": {},
   "outputs": [],
   "source": [
    "# findSubString(svo_df, ['UK', 'Kingdom'])"
   ]
  },
  {
   "cell_type": "code",
   "execution_count": 20,
   "metadata": {},
   "outputs": [],
   "source": [
    "UK = [\n",
    " 'UK ',\n",
    " 'United Kingdom ']"
   ]
  },
  {
   "cell_type": "code",
   "execution_count": 21,
   "metadata": {},
   "outputs": [],
   "source": [
    "# findSubString(svo_df, ['May', 'Theresa'])"
   ]
  },
  {
   "cell_type": "code",
   "execution_count": 22,
   "metadata": {},
   "outputs": [],
   "source": [
    "may = [' Theresa May ',\n",
    " 'Caption Theresa May ',\n",
    " 'May ']"
   ]
  },
  {
   "cell_type": "code",
   "execution_count": 23,
   "metadata": {},
   "outputs": [],
   "source": [
    "# findSubString(svo_df, ['Australia'])"
   ]
  },
  {
   "cell_type": "code",
   "execution_count": 24,
   "metadata": {},
   "outputs": [],
   "source": [
    "# findSubString(svo_df, ['Turnbull'])"
   ]
  },
  {
   "cell_type": "code",
   "execution_count": 25,
   "metadata": {},
   "outputs": [],
   "source": [
    "# findSubString(svo_df, ['China'])"
   ]
  },
  {
   "cell_type": "code",
   "execution_count": 26,
   "metadata": {},
   "outputs": [],
   "source": [
    "# findSubString(svo_df, ['Xi', 'Jin'])"
   ]
  },
  {
   "cell_type": "code",
   "execution_count": 27,
   "metadata": {},
   "outputs": [],
   "source": [
    "xi = ['President Xi Jinping  Yep ',\n",
    " 'Xi ',\n",
    " 'Xi Jingping ',\n",
    " 'President Xi Jinping ']"
   ]
  },
  {
   "cell_type": "code",
   "execution_count": 28,
   "metadata": {},
   "outputs": [],
   "source": [
    "# findSubString(svo_df, ['India'])"
   ]
  },
  {
   "cell_type": "code",
   "execution_count": 29,
   "metadata": {},
   "outputs": [],
   "source": [
    "modi = findSubString(svo_df, ['Modi'])"
   ]
  },
  {
   "cell_type": "code",
   "execution_count": 30,
   "metadata": {},
   "outputs": [],
   "source": [
    "# findSubString(svo_df, ['Nigeria'])"
   ]
  },
  {
   "cell_type": "code",
   "execution_count": 31,
   "metadata": {},
   "outputs": [],
   "source": [
    "buhari = findSubString(svo_df, ['Buhari'])"
   ]
  },
  {
   "cell_type": "code",
   "execution_count": 32,
   "metadata": {},
   "outputs": [],
   "source": [
    "# findSubString(svo_df, ['Kenya'])"
   ]
  },
  {
   "cell_type": "code",
   "execution_count": 33,
   "metadata": {},
   "outputs": [],
   "source": [
    "# findSubString(svo_df, ['Kenyatta'])"
   ]
  },
  {
   "cell_type": "code",
   "execution_count": 34,
   "metadata": {},
   "outputs": [],
   "source": [
    "# findSubString(svo_df, ['Middle East', 'Arab', 'arab', 'Arabia', 'Saudi'])"
   ]
  },
  {
   "cell_type": "code",
   "execution_count": 35,
   "metadata": {},
   "outputs": [],
   "source": [
    "convert_dict = {'Trump': trump,\n",
    "'Trump government': trump_government,\n",
    "'Obama': obama,\n",
    "'US': US,\n",
    "'UN': UN,\n",
    "'Paris Agreement': paris_accord,\n",
    "'UK': UK,\n",
    "'Theresa May': may,\n",
    "'Xi Jinping': xi,\n",
    "'Modi': modi,\n",
    "'Buhari': buhari,\n",
    "               }\n"
   ]
  },
  {
   "cell_type": "code",
   "execution_count": 36,
   "metadata": {},
   "outputs": [],
   "source": [
    "def convertSubjects(df, convert_dict):\n",
    "    import numpy\n",
    "    df['subject_clean'] = numpy.nan\n",
    "    for i, row in df.iterrows():\n",
    "        for key, val in convert_dict.items():\n",
    "            if row['subject'] in val:\n",
    "                df.loc[i, 'subject_clean'] = key\n",
    "            else:\n",
    "                df.loc[i, 'subject_clean'] = row['subject']\n",
    "    return df"
   ]
  },
  {
   "cell_type": "code",
   "execution_count": 37,
   "metadata": {},
   "outputs": [],
   "source": [
    "svo_df_cl = convertSubjects(svo_df, convert_dict)"
   ]
  },
  {
   "cell_type": "code",
   "execution_count": 38,
   "metadata": {},
   "outputs": [
    {
     "name": "stdout",
     "output_type": "stream",
     "text": [
      "45048\n"
     ]
    }
   ],
   "source": [
    "print(len(svo_df))"
   ]
  },
  {
   "cell_type": "code",
   "execution_count": null,
   "metadata": {
    "collapsed": true
   },
   "outputs": [],
   "source": [
    "pd.DataFrame(svo_df_cl.groupby(by=['subject_clean'])['verb'].value_counts())#['US']"
   ]
  },
  {
   "cell_type": "code",
   "execution_count": null,
   "metadata": {
    "collapsed": true
   },
   "outputs": [],
   "source": []
  }
 ],
 "metadata": {
  "kernelspec": {
   "display_name": "Python 3",
   "language": "python",
   "name": "python3"
  },
  "language_info": {
   "codemirror_mode": {
    "name": "ipython",
    "version": 3
   },
   "file_extension": ".py",
   "mimetype": "text/x-python",
   "name": "python",
   "nbconvert_exporter": "python",
   "pygments_lexer": "ipython3",
   "version": "3.6.2"
  }
 },
 "nbformat": 4,
 "nbformat_minor": 2
}
