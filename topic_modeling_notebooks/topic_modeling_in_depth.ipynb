{
 "cells": [
  {
   "cell_type": "markdown",
   "metadata": {},
   "source": [
    "# Application of an LDA Topic Model to our corpus"
   ]
  },
  {
   "cell_type": "code",
   "execution_count": 1,
   "metadata": {},
   "outputs": [],
   "source": [
    "#Special module written for this class\n",
    "import lucem_illud #pip install -U git+git://github.com/Computational-Content-Analysis-2018/lucem_illud.git\n",
    "\n",
    "#These are all for the cluster detection\n",
    "import sklearn\n",
    "import sklearn.feature_extraction.text\n",
    "import sklearn.pipeline\n",
    "import sklearn.preprocessing\n",
    "import sklearn.datasets\n",
    "import sklearn.cluster\n",
    "import sklearn.decomposition\n",
    "import sklearn.metrics\n",
    "\n",
    "# import scipy #For hierarchical clustering and some visuals\n",
    "from scipy import stats\n",
    "import gensim#For topic modeling\n",
    "import nltk #the Natural Language Toolkit\n",
    "import requests #For downloading our datasets\n",
    "import numpy as np #for arrays\n",
    "import pandas #gives us DataFrames\n",
    "import matplotlib.pyplot as plt #For graphics\n",
    "import matplotlib.cm #Still for graphics\n",
    "import seaborn as sns #Makes the graphics look nicer\n",
    "\n",
    "import pandas as pd\n",
    "# import itertools\n",
    "from itertools import combinations\n",
    "from functools import reduce\n",
    "import json\n",
    "\n",
    "%matplotlib inline"
   ]
  },
  {
   "cell_type": "code",
   "execution_count": 3,
   "metadata": {},
   "outputs": [],
   "source": [
    "news_df1 = pd.read_pickle('../news_df_norm1.pkl')\n",
    "news_df2 = pd.read_pickle('../news_df_norm2.pkl')\n",
    "news_df = pd.concat([news_df1, news_df2])"
   ]
  },
  {
   "cell_type": "code",
   "execution_count": 6,
   "metadata": {},
   "outputs": [],
   "source": [
    "def dropMissing(wordLst, vocab):\n",
    "    return [w for w in wordLst if w in vocab]\n",
    "\n",
    "\n",
    "def topic_loop(df, num_topic, max_df, max_feature, norm, alpha, eta, random_number=None):\n",
    "    \"\"\"\n",
    "    Outputs top topics words according throughout all the hyperparameter combinations.\n",
    "    Params:\n",
    "        df: Dataframe with text to be analyzed. Requires column named \"normalized tokens\" with text \n",
    "            as tokens that have been stemmed and lemmatized.\n",
    "        random_number: Seed for the LdaModel. Default None will give out a different model every \n",
    "            time for the same parameter combination.\n",
    "        All other parameters are lists of that param name to be passed to gensim.LdaModel\n",
    "    \"\"\"\n",
    "    TFVectorizer = sklearn.feature_extraction.text.TfidfVectorizer(max_df=max_df, min_df=20, \n",
    "                                                                   max_features=max_feature, stop_words=basic_cc)\n",
    "    TFVects = TFVectorizer.fit_transform(df['text'])\n",
    "\n",
    "    # drop\n",
    "    reduced_token_str = 'reduced_tokens_' + norm\n",
    "    norm_col = 'normalized_tokens' + norm\n",
    "    df[reduced_token_str] = df[norm_col].apply(lambda x: dropMissing(x, TFVectorizer.vocabulary_.keys()))\n",
    "\n",
    "    # Make dictionary\n",
    "    dictionary = gensim.corpora.Dictionary(df[reduced_token_str])\n",
    "\n",
    "    # Make corpus\n",
    "    corpus = [dictionary.doc2bow(text) for text in df[reduced_token_str]]\n",
    "\n",
    "    # Serialize\n",
    "    serial_str = 'news.mm'\n",
    "    gensim.corpora.MmCorpus.serialize(serial_str, corpus)\n",
    "    #newsm = gensim.corpora.MmCorpus(serial_str)\n",
    "\n",
    "    # Topic model\n",
    "    lda = gensim.models.ldamodel.LdaModel(corpus=corpus, id2word=dictionary, num_topics=num_topic, \n",
    "                                          alpha=alpha, eta=eta, random_state=random_number)\n",
    "    topicsDict = {}\n",
    "    for topicNum in range(lda.num_topics):\n",
    "        topicWords = [w for w in lda.show_topic(topicNum, topn=20)]\n",
    "        topicsDict['Topic_{}'.format(topicNum)] = topicWords\n",
    "    wordRanksDF = pandas.DataFrame(topicsDict)\n",
    "\n",
    "    # Topics per document\n",
    "    ldaDF = pandas.DataFrame({\n",
    "            'name' : [df.iloc[i,1] + '_' + df.iloc[i,7] for i in range(df.shape[0])],\n",
    "            'topics' : [lda[dictionary.doc2bow(l)] for l in df[reduced_token_str]]})    \n",
    "    topicsProbDict = {i : [0] * len(ldaDF) for i in range(lda.num_topics)}\n",
    "    for index, topicTuples in enumerate(ldaDF['topics']):\n",
    "        for topicNum, prob in topicTuples:\n",
    "            topicsProbDict[topicNum][index] = prob\n",
    "    for topicNum in range(lda.num_topics):\n",
    "        ldaDF['topic_{}'.format(topicNum)] = topicsProbDict[topicNum]\n",
    "    \n",
    "    return wordRanksDF, ldaDF"
   ]
  },
  {
   "cell_type": "markdown",
   "metadata": {},
   "source": [
    "Incorporating some repeated, non-meaningful words to our stopwords list, and setting the parameters for our topic modelling"
   ]
  },
  {
   "cell_type": "code",
   "execution_count": 10,
   "metadata": {},
   "outputs": [],
   "source": [
    "basic_cc = lucem_illud.stop_words_basic + ['climat', 'chang', 'like', 'year','mr', 'say','could']\n",
    "\n",
    "num_topic = 3\n",
    "max_df = 0.5\n",
    "max_feature = 1000\n",
    "norm = '_stem'\n",
    "\n",
    "alpha = 0.1\n",
    "eta = 0.1"
   ]
  },
  {
   "cell_type": "markdown",
   "metadata": {},
   "source": [
    "<br> To assess topic stability, we repeat the process without seed and measure similarity between the topics created."
   ]
  },
  {
   "cell_type": "code",
   "execution_count": 18,
   "metadata": {},
   "outputs": [],
   "source": [
    "topic_words1, topic_per_doc1 = topic_loop(news_df, num_topic, max_df, max_feature, norm, alpha, eta)"
   ]
  },
  {
   "cell_type": "code",
   "execution_count": 19,
   "metadata": {},
   "outputs": [],
   "source": [
    "topic_words2, topic_per_doc2 = topic_loop(news_df, num_topic, max_df, max_feature, norm, alpha, eta)"
   ]
  },
  {
   "cell_type": "code",
   "execution_count": 20,
   "metadata": {},
   "outputs": [],
   "source": [
    "topic_words3, topic_per_doc3 = topic_loop(news_df, num_topic, max_df, max_feature, norm, alpha, eta)"
   ]
  },
  {
   "cell_type": "code",
   "execution_count": 21,
   "metadata": {},
   "outputs": [],
   "source": [
    "topic_words4, topic_per_doc4 = topic_loop(news_df, num_topic, max_df, max_feature, norm, alpha, eta)"
   ]
  },
  {
   "cell_type": "code",
   "execution_count": 22,
   "metadata": {},
   "outputs": [],
   "source": [
    "topic_words5, topic_per_doc5 = topic_loop(news_df, num_topic, max_df, max_feature, norm, alpha, eta)"
   ]
  },
  {
   "cell_type": "code",
   "execution_count": 23,
   "metadata": {},
   "outputs": [],
   "source": [
    "def jaccard_similarity(x,y):\n",
    "    \"\"\"\n",
    "    http://www.pressthered.com/adding_dates_and_times_in_python/\n",
    "    Given two lists, returns their jaccard similarity score (float)\n",
    "    \"\"\"\n",
    "    intersection_cardinality = len(set.intersection(*[set(x), set(y)]))\n",
    "    union_cardinality = len(set.union(*[set(x), set(y)]))\n",
    "\n",
    "    if union_cardinality != 0:\n",
    "        val = intersection_cardinality/float(union_cardinality)\n",
    "    else:\n",
    "        val = 0  #if two empty sets are given, return 0 instead of an error\n",
    "    return val"
   ]
  },
  {
   "cell_type": "code",
   "execution_count": 24,
   "metadata": {},
   "outputs": [],
   "source": [
    "def topWordStability(topic_words1, topic_words2, typ):\n",
    "    top_corrs = []\n",
    "    for t1 in range(topic_words1.shape[1]):\n",
    "        t1_corrs = []\n",
    "        topic_num1 = 'Topic_' + str(t1)\n",
    "        words1 = [topic_words1[topic_num1][i][0] for i in range(len(topic_words1))]\n",
    "        \n",
    "        for t2 in range(topic_words2.shape[1]):\n",
    "            topic_num2 = 'Topic_' + str(t2)\n",
    "            words2 = [topic_words2[topic_num2][i][0] for i in range(len(topic_words2))]\n",
    "            \n",
    "            if typ == 'j':\n",
    "                corr = jaccard_similarity(words1, words2)\n",
    "                t1_corrs.append((topic_num1, topic_num2, corr))\n",
    "            elif typ == 's':\n",
    "                corr = stats.spearmanr(words1, words2)\n",
    "                t1_corrs.append((topic_num1, topic_num2, corr[0]))\n",
    "        t1_top = [t1_corrs[i][2] for i in range(len(t1_corrs))]\n",
    "        ind = t1_top.index(max(t1_top))\n",
    "        top_corrs.append(t1_corrs[ind])\n",
    "    return top_corrs"
   ]
  },
  {
   "cell_type": "code",
   "execution_count": 29,
   "metadata": {},
   "outputs": [
    {
     "data": {
      "text/plain": [
       "[('Topic_0', 'Topic_1', 0.42857142857142855),\n",
       " ('Topic_1', 'Topic_1', 0.3793103448275862),\n",
       " ('Topic_2', 'Topic_1', 0.3333333333333333)]"
      ]
     },
     "execution_count": 29,
     "metadata": {},
     "output_type": "execute_result"
    }
   ],
   "source": [
    "topWordStability(topic_words1, topic_words2, 'j')"
   ]
  },
  {
   "cell_type": "code",
   "execution_count": 25,
   "metadata": {},
   "outputs": [],
   "source": [
    "def averageWordStability(topic_words_list, num_topic, typ):\n",
    "    all_combo_corrs = []\n",
    "    for i in range(len(topic_words_list)):\n",
    "        for j in range(len(topic_words_list)):\n",
    "            if j > i:\n",
    "                top_corrs = topWordStability(topic_words_list[i], topic_words_list[j], typ)\n",
    "                all_combo_corrs.append(('gr'+str(i), 'gr'+str(j), top_corrs))\n",
    "    \n",
    "    avg_corrs = []\n",
    "    for t in range(num_topic):\n",
    "        corrs = [all_combo_corrs[i][2][t][2] for i in range(len(all_combo_corrs))]\n",
    "        avg = reduce(lambda x, y: x + y, corrs) / len(corrs)\n",
    "        avg_corrs.append((t, avg))\n",
    "    return avg_corrs"
   ]
  },
  {
   "cell_type": "code",
   "execution_count": 26,
   "metadata": {},
   "outputs": [],
   "source": [
    "topic_words_list = [topic_words1, topic_words2, topic_words3, topic_words4, topic_words5]"
   ]
  },
  {
   "cell_type": "code",
   "execution_count": 27,
   "metadata": {},
   "outputs": [
    {
     "name": "stderr",
     "output_type": "stream",
     "text": [
      "/software/Anaconda3-5.0.0.1-el7-x86_64/lib/python3.6/site-packages/scipy/stats/stats.py:245: RuntimeWarning: The input array could not be properly checked for nan values. nan values will be ignored.\n",
      "  \"values. nan values will be ignored.\", RuntimeWarning)\n"
     ]
    },
    {
     "data": {
      "text/plain": [
       "[(0, 0.30992481203007516), (1, 0.36721804511278194), (2, 0.09984962406015037)]"
      ]
     },
     "execution_count": 27,
     "metadata": {},
     "output_type": "execute_result"
    }
   ],
   "source": [
    "averageWordStability(topic_words_list, 3, 's')"
   ]
  },
  {
   "cell_type": "markdown",
   "metadata": {},
   "source": [
    "Looking at the word distribution for each of the topics"
   ]
  },
  {
   "cell_type": "code",
   "execution_count": 12,
   "metadata": {},
   "outputs": [],
   "source": [
    "def topicWordGraph(topic_words):\n",
    "    for t in range(topic_words.shape[1]):\n",
    "        topic_df = topic_words['Topic_' + str(t)]\n",
    "        words = [topic_df[i][0] for i in range(len(topic_df))]\n",
    "        probs = [topic_df[i][1] for i in range(len(topic_df))]\n",
    "        \n",
    "        plt.figure()\n",
    "        pd.DataFrame(np.array(probs)).plot.bar(legend = False)\n",
    "        plt.xticks(list(range(0,topic_words.shape[0])), words, rotation=45)\n",
    "        plt.title('Probability Distribution of Words, Topic ' + str(t))\n",
    "        plt.show()"
   ]
  },
  {
   "cell_type": "code",
   "execution_count": 13,
   "metadata": {},
   "outputs": [
    {
     "data": {
      "text/plain": [
       "<Figure size 432x288 with 0 Axes>"
      ]
     },
     "metadata": {},
     "output_type": "display_data"
    },
    {
     "data": {
      "image/png": "[encoded data removed]",
      "text/plain": [
       "<Figure size 432x288 with 1 Axes>"
      ]
     },
     "metadata": {},
     "output_type": "display_data"
    },
    {
     "data": {
      "text/plain": [
       "<Figure size 432x288 with 0 Axes>"
      ]
     },
     "metadata": {},
     "output_type": "display_data"
    },
    {
     "data": {
      "image/png": "[encoded data removed]",
      "text/plain": [
       "<Figure size 432x288 with 1 Axes>"
      ]
     },
     "metadata": {},
     "output_type": "display_data"
    },
    {
     "data": {
      "text/plain": [
       "<Figure size 432x288 with 0 Axes>"
      ]
     },
     "metadata": {},
     "output_type": "display_data"
    },
    {
     "data": {
      "image/png": "[encoded data removed]",
      "text/plain": [
       "<Figure size 432x288 with 1 Axes>"
      ]
     },
     "metadata": {},
     "output_type": "display_data"
    }
   ],
   "source": [
    "topicWordGraph(topic_words1)"
   ]
  },
  {
   "cell_type": "markdown",
   "metadata": {},
   "source": [
    "## We use the topic proportions to make statements about which countries devote their news to. Here we make and plot this calculation"
   ]
  },
  {
   "cell_type": "code",
   "execution_count": 14,
   "metadata": {},
   "outputs": [],
   "source": [
    "def averageTopicProportions(topic_per_doc):\n",
    "    \"\"\"\n",
    "    Calculates and plots average topic proportions per country given a topics per document dataframe\n",
    "    \"\"\"\n",
    "    topic_per_doc['country'] = [topic_per_doc.iloc[i,0][:2] for i in range(topic_per_doc.shape[0])]\n",
    "    group_country = topic_per_doc.groupby(['country']).mean().reset_index()\n",
    "    topics = {}\n",
    "    \n",
    "    for t in range(group_country.shape[1] - 1):\n",
    "        key = 'topic_' + str(t)\n",
    "        val = group_country[key]\n",
    "        topics[key] = val\n",
    "    \n",
    "    df = pd.DataFrame(topics)\n",
    "    df.plot(kind='bar', stacked=True)\n",
    "    plt.xticks(list(range(group_country.shape[0])), group_country['country'])"
   ]
  },
  {
   "cell_type": "code",
   "execution_count": 15,
   "metadata": {},
   "outputs": [
    {
     "data": {
      "image/png": "[encoded data removed]",
      "text/plain": [
       "<Figure size 432x288 with 1 Axes>"
      ]
     },
     "metadata": {},
     "output_type": "display_data"
    }
   ],
   "source": [
    "averageTopicProportions(topic_per_doc1)"
   ]
  },
  {
   "cell_type": "code",
   "execution_count": 16,
   "metadata": {},
   "outputs": [],
   "source": [
    "def topTopic(topic_per_doc, num_topics):\n",
    "    \"\"\"\n",
    "    Calculates and plots topic proportions per country using only the most salient topic per document.\n",
    "    \"\"\"\n",
    "    topic_per_doc['country'] = [topic_per_doc.iloc[i,0][:2] for i in range(topic_per_doc.shape[0])]\n",
    "    \n",
    "    # Find max topic proportion per document\n",
    "    for i in range(topic_per_doc.shape[0]):\n",
    "        props = []\n",
    "        for t in range(num_topics):\n",
    "            props.append(topic_per_doc.iloc[i,t+2])\n",
    "        tmp = max(props)\n",
    "        mx = props.index(tmp)\n",
    "        topic_per_doc.loc[i, 'top_topic'] = mx\n",
    "        \n",
    "    # Create pivot table of number of docs per topic by country\n",
    "    d = pd.pivot_table(topic_per_doc, values=['name'], index=['country'], columns=['top_topic'], aggfunc='count').reset_index()\n",
    "    \n",
    "    # Convert number to proportion\n",
    "    countries = [d.values[i][0] for i in range(len(d.values))]\n",
    "    tots = [d.values[i][1:].sum() for i in range(len(d.values))]\n",
    "    df_dict = {'country': countries}\n",
    "    for t in range(num_topics):\n",
    "        df_dict['topic_' + str(t)] = [d.values[i][t+1]/tots[i] for i in range(len(d.values))]\n",
    "    df = pd.DataFrame(df_dict)\n",
    "    \n",
    "    # Stack proportions for graph\n",
    "    topics = {}\n",
    "    for t in range(df.shape[1] - 1):\n",
    "        key = 'topic_' + str(t)\n",
    "        val = df[key]\n",
    "        topics[key] = val\n",
    "    df2 = pd.DataFrame(topics)\n",
    "    df2.plot(kind='bar', stacked=True)\n",
    "    plt.xticks(list(range(df.shape[0])), df['country'])"
   ]
  },
  {
   "cell_type": "code",
   "execution_count": 17,
   "metadata": {},
   "outputs": [
    {
     "data": {
      "image/png": "[encoded data removed]",
      "text/plain": [
       "<Figure size 432x288 with 1 Axes>"
      ]
     },
     "metadata": {},
     "output_type": "display_data"
    }
   ],
   "source": [
    "topTopic(topic_per_doc1, 3)"
   ]
  },
  {
   "cell_type": "code",
   "execution_count": null,
   "metadata": {},
   "outputs": [],
   "source": []
  }
 ],
 "metadata": {
  "kernelspec": {
   "display_name": "Python 3",
   "language": "python",
   "name": "python3"
  },
  "language_info": {
   "codemirror_mode": {
    "name": "ipython",
    "version": 3
   },
   "file_extension": ".py",
   "mimetype": "text/x-python",
   "name": "python",
   "nbconvert_exporter": "python",
   "pygments_lexer": "ipython3",
   "version": "3.6.2"
  }
 },
 "nbformat": 4,
 "nbformat_minor": 2
}
